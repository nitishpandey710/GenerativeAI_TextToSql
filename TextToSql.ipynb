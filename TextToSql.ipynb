{
 "cells": [
  {
   "cell_type": "markdown",
   "id": "cff346c2",
   "metadata": {},
   "source": [
    "1. Connect to MySQL\n",
    "\n",
    "Uses SQLDatabase to connect to the database.\n",
    "\n",
    "Fetches table + column information so the model knows the schema.\n",
    "\n",
    "2. Build a Prompt\n",
    "\n",
    "Creates a template that tells GPT-4o:\n",
    "\n",
    "Given this schema and a user question, return only a single-line SQL query.\n",
    "\n",
    "3. Generate SQL\n",
    "\n",
    "Takes the user’s question + schema.\n",
    "Sends them to GPT-4o.\n",
    "GPT-4o returns an SQL query string (like SELECT SUM(...) ...).\n",
    "\n",
    "4. Clean & Run\n",
    "\n",
    "Cleans up the SQL (removes ```sql fences).\n",
    "Executes it with db.run(sql_query).\n",
    "Prints the results from MySQL."
   ]
  },
  {
   "cell_type": "code",
   "execution_count": 14,
   "id": "42bca2d2",
   "metadata": {},
   "outputs": [],
   "source": [
    "from langchain.utilities import SQLDatabase\n",
    "from langchain_openai import ChatOpenAI\n",
    "from langchain.prompts import PromptTemplate\n",
    "from langchain.chains import create_sql_query_chain\n",
    "from langchain_core.output_parsers import StrOutputParser\n",
    "from langchain_core.runnables import RunnablePassthrough\n",
    "from langchain_core.prompts import ChatPromptTemplate\n",
    "from dotenv import load_dotenv"
   ]
  },
  {
   "cell_type": "code",
   "execution_count": 15,
   "id": "43de222a",
   "metadata": {},
   "outputs": [
    {
     "data": {
      "text/plain": [
       "True"
      ]
     },
     "execution_count": 15,
     "metadata": {},
     "output_type": "execute_result"
    }
   ],
   "source": [
    "load_dotenv()"
   ]
  },
  {
   "cell_type": "code",
   "execution_count": 2,
   "id": "d63b47ea",
   "metadata": {},
   "outputs": [],
   "source": [
    "# Connect MySQL database\n",
    "host = 'localhost'\n",
    "port = '3306'\n",
    "username = 'root'\n",
    "password = 'root'\n",
    "database_schema = 'poc_test_to_sql'\n",
    "\n",
    "mysql_uri = f\"mysql+pymysql://{username}:{password}@{host}:{port}/{database_schema}\"\n"
   ]
  },
  {
   "cell_type": "code",
   "execution_count": 3,
   "id": "10f6de70",
   "metadata": {},
   "outputs": [],
   "source": [
    "# Initialize SQLDatabase\n",
    "db = SQLDatabase.from_uri(mysql_uri, sample_rows_in_table_info=1)\n"
   ]
  },
  {
   "cell_type": "code",
   "execution_count": 4,
   "id": "7b6c8c76",
   "metadata": {},
   "outputs": [
    {
     "data": {
      "text/plain": [
       "<langchain_community.utilities.sql_database.SQLDatabase at 0x2302ff278d0>"
      ]
     },
     "execution_count": 4,
     "metadata": {},
     "output_type": "execute_result"
    }
   ],
   "source": [
    "db"
   ]
  },
  {
   "cell_type": "code",
   "execution_count": 5,
   "id": "6eb3c911",
   "metadata": {},
   "outputs": [
    {
     "data": {
      "text/plain": [
       "'\\nCREATE TABLE `2017_budgets` (\\n\\t`Product_Name` TEXT, \\n\\t`2017_Budgets` DOUBLE\\n)ENGINE=InnoDB COLLATE utf8mb4_0900_ai_ci DEFAULT CHARSET=utf8mb4\\n\\n/*\\n1 rows from 2017_budgets table:\\nProduct_Name\\t2017_Budgets\\nProduct 1\\t3016489.2089999998\\n*/\\n\\n\\nCREATE TABLE customers (\\n\\t`Customer_Index` INTEGER, \\n\\t`Customer_Names` TEXT\\n)ENGINE=InnoDB COLLATE utf8mb4_0900_ai_ci DEFAULT CHARSET=utf8mb4\\n\\n/*\\n1 rows from customers table:\\nCustomer_Index\\tCustomer_Names\\n1\\tGeiss Company\\n*/\\n\\n\\nCREATE TABLE products (\\n\\t`Index` INTEGER, \\n\\t`Product_Name` TEXT\\n)ENGINE=InnoDB COLLATE utf8mb4_0900_ai_ci DEFAULT CHARSET=utf8mb4\\n\\n/*\\n1 rows from products table:\\nIndex\\tProduct_Name\\n1\\tProduct 1\\n*/\\n\\n\\nCREATE TABLE regions (\\n\\tid INTEGER, \\n\\tname TEXT, \\n\\tcounty TEXT, \\n\\tstate_code TEXT, \\n\\tstate TEXT, \\n\\ttype TEXT, \\n\\tlatitude DOUBLE, \\n\\tlongitude DOUBLE, \\n\\tarea_code INTEGER, \\n\\tpopulation INTEGER, \\n\\thouseholds INTEGER, \\n\\tmedian_income INTEGER, \\n\\tland_area INTEGER, \\n\\twater_area INTEGER, \\n\\ttime_zone TEXT\\n)ENGINE=InnoDB COLLATE utf8mb4_0900_ai_ci DEFAULT CHARSET=utf8mb4\\n\\n/*\\n1 rows from regions table:\\nid\\tname\\tcounty\\tstate_code\\tstate\\ttype\\tlatitude\\tlongitude\\tarea_code\\tpopulation\\thouseholds\\tmedian_income\\tland_area\\twater_area\\ttime_zone\\n1\\tAuburn\\tLee County\\tAL\\tAlabama\\tCity\\t32.6098600000\\t-85.4807800000\\t334\\t62059\\t21767\\t38342\\t152375113\\t2646161\\tAmerica/Chicago\\n*/\\n\\n\\nCREATE TABLE sales_order (\\n\\t`OrderNumber` TEXT, \\n\\t`OrderDate` TEXT, \\n\\t`Customer_Name_Index` INTEGER, \\n\\t`Channel` TEXT, \\n\\t`Currency_Code` TEXT, \\n\\t`Warehouse_Code` TEXT, \\n\\t`Delivery_Region_Index` INTEGER, \\n\\t`Product_Description_Index` INTEGER, \\n\\t`Order_Quantity` INTEGER, \\n\\t`Unit_Price` DOUBLE, \\n\\t`Line_Total` DOUBLE, \\n\\t`Total_Unit_Cost` DOUBLE\\n)ENGINE=InnoDB COLLATE utf8mb4_0900_ai_ci DEFAULT CHARSET=utf8mb4\\n\\n/*\\n1 rows from sales_order table:\\nOrderNumber\\tOrderDate\\tCustomer_Name_Index\\tChannel\\tCurrency_Code\\tWarehouse_Code\\tDelivery_Region_Index\\tProduct_Description_Index\\tOrder_Quantity\\tUnit_Price\\tLine_Total\\tTotal_Unit_Cost\\nSO - 000225\\t1/1/2021\\t126\\tWholesale\\tUSD\\tAXW291\\t364\\t27\\t6\\t2499.1000000000\\t14994.6000000000\\t1824.3430000000\\n*/\\n\\n\\nCREATE TABLE state_regions (\\n\\t`State_Code` TEXT, \\n\\t`State` TEXT, \\n\\t`Region` TEXT\\n)ENGINE=InnoDB COLLATE utf8mb4_0900_ai_ci DEFAULT CHARSET=utf8mb4\\n\\n/*\\n1 rows from state_regions table:\\nState_Code\\tState\\tRegion\\nAL\\tAlabama\\tSouth\\n*/'"
      ]
     },
     "execution_count": 5,
     "metadata": {},
     "output_type": "execute_result"
    }
   ],
   "source": [
    "# Get table information\n",
    "db.get_table_info()"
   ]
  },
  {
   "cell_type": "code",
   "execution_count": 6,
   "id": "18292c9a",
   "metadata": {},
   "outputs": [],
   "source": [
    "# Create the LLM Prompt Template\n",
    "template = \"\"\"\n",
    "Based on the table schema below, write a SQL query that would answer the user's question:\n",
    "Remember: Only provide me the SQL query, don't include anything else. \n",
    "Provide me SQL query in a single line, don't add line breaks.\n",
    "\n",
    "Table Schema: {schema}\n",
    "Question: {question}\n",
    "SQL Query:\n",
    "\"\"\"\n",
    "\n",
    "prompt = ChatPromptTemplate.from_template(template)"
   ]
  },
  {
   "cell_type": "code",
   "execution_count": 7,
   "id": "44e1da8c",
   "metadata": {},
   "outputs": [
    {
     "data": {
      "text/plain": [
       "ChatPromptTemplate(input_variables=['question', 'schema'], input_types={}, partial_variables={}, messages=[HumanMessagePromptTemplate(prompt=PromptTemplate(input_variables=['question', 'schema'], input_types={}, partial_variables={}, template=\"\\nBased on the table schema below, write a SQL query that would answer the user's question:\\nRemember: Only provide me the SQL query, don't include anything else. \\nProvide me SQL query in a single line, don't add line breaks.\\n\\nTable Schema: {schema}\\nQuestion: {question}\\nSQL Query:\\n\"), additional_kwargs={})])"
      ]
     },
     "execution_count": 7,
     "metadata": {},
     "output_type": "execute_result"
    }
   ],
   "source": [
    "prompt"
   ]
  },
  {
   "cell_type": "code",
   "execution_count": 13,
   "id": "8ddc5f31",
   "metadata": {},
   "outputs": [],
   "source": [
    "# Get the schema of the database\n",
    "def get_schema(db):\n",
    "    schema = db.get_table_info()\n",
    "    return schema\n"
   ]
  },
  {
   "cell_type": "code",
   "execution_count": 16,
   "id": "e7bf5c2f",
   "metadata": {},
   "outputs": [],
   "source": [
    "# Initialize LLM (GPT-4.0)\n",
    "llm = ChatOpenAI(\n",
    "    model=\"gpt-4o\",     \n",
    "    temperature=0     \n",
    ")"
   ]
  },
  {
   "cell_type": "code",
   "execution_count": 25,
   "id": "bae20c3d",
   "metadata": {},
   "outputs": [],
   "source": [
    "# Create the SQL query chain using the LLM and the prompt template\n",
    "sql_chain = (\n",
    "    RunnablePassthrough.assign(schema=lambda _: get_schema(db))\n",
    "    | prompt\n",
    "    | llm.bind(stop=[\"\\nSQLResult:\"])\n",
    "    | StrOutputParser()\n",
    ")"
   ]
  },
  {
   "cell_type": "code",
   "execution_count": 26,
   "id": "5e0dbdf3",
   "metadata": {},
   "outputs": [
    {
     "name": "stdout",
     "output_type": "stream",
     "text": [
      "```sql\n",
      "SELECT SUM(Line_Total) AS Total_Line_Total FROM sales_order JOIN customers ON sales_order.Customer_Name_Index = customers.Customer_Index WHERE customers.Customer_Names = 'Zava Group';\n",
      "```\n"
     ]
    }
   ],
   "source": [
    "# Test the SQL query chain with a sample question\n",
    "resp = sql_chain.invoke({\n",
    "    \"question\": \"What is the total 'Line Total' for Zava Group\"\n",
    "})\n",
    "\n",
    "print(resp)"
   ]
  },
  {
   "cell_type": "code",
   "execution_count": 27,
   "id": "065d9fac",
   "metadata": {},
   "outputs": [
    {
     "name": "stdout",
     "output_type": "stream",
     "text": [
      "SQL to run:\n",
      " SELECT SUM(Line_Total) AS Total_Line_Total FROM sales_order JOIN customers ON sales_order.Customer_Name_Index = customers.Customer_Index WHERE customers.Customer_Names = 'Zava Group';\n",
      "Query Result:\n",
      " [(6979443.600000001,)]\n"
     ]
    }
   ],
   "source": [
    "# Clean the SQL query (remove ```sql fences if present)\n",
    "sql_query = resp.strip()\n",
    "if sql_query.startswith(\"```\"):\n",
    "    sql_query = sql_query.strip(\"`\").replace(\"sql\", \"\", 1).strip()\n",
    "if sql_query.endswith(\"```\"):\n",
    "    sql_query = sql_query[:-3].strip()\n",
    "\n",
    "print(\"SQL to run:\\n\", sql_query)\n",
    "\n",
    "# Run the query on MySQL\n",
    "result = db.run(sql_query)\n",
    "print(\"Query Result:\\n\", result)\n"
   ]
  }
 ],
 "metadata": {
  "kernelspec": {
   "display_name": "Python 3",
   "language": "python",
   "name": "python3"
  },
  "language_info": {
   "codemirror_mode": {
    "name": "ipython",
    "version": 3
   },
   "file_extension": ".py",
   "mimetype": "text/x-python",
   "name": "python",
   "nbconvert_exporter": "python",
   "pygments_lexer": "ipython3",
   "version": "3.11.10"
  }
 },
 "nbformat": 4,
 "nbformat_minor": 5
}
